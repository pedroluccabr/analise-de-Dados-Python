{
 "cells": [
  {
   "cell_type": "markdown",
   "metadata": {},
   "source": [
    "# Python Insights - Analisando Dados com Python\n",
    "\n",
    "### Case - Cancelamento de Clientes\n",
    "\n",
    "Você foi contratado por uma empresa com mais de 800 mil clientes para um projeto de Dados. Recentemente a empresa percebeu que da sua base total de clientes, a maioria são clientes inativos, ou seja, que já cancelaram o serviço.\n",
    "\n",
    "Precisando melhorar seus resultados ela quer conseguir entender os principais motivos desses cancelamentos e quais as ações mais eficientes para reduzir esse número.\n",
    "\n",
    "Base de dados e arquivos: https://drive.google.com/drive/folders/1uDesZePdkhiraJmiyeZ-w5tfc8XsNYFZ?usp=drive_link"
   ]
  },
  {
   "cell_type": "code",
   "execution_count": null,
   "metadata": {},
   "outputs": [],
   "source": [
    "# passo 1: importar a base de dados\n",
    "# !pip install pandas numpy openpyxl nbformat  ipykernel plotly\n",
    "import pandas as pd\n",
    "\n",
    "tabela = pd.read_csv(\"cancelamentos.csv\")\n",
    "display(tabela)"
   ]
  },
  {
   "cell_type": "code",
   "execution_count": null,
   "metadata": {},
   "outputs": [],
   "source": [
    "# passo 2: visualizar a base de dados\n",
    "    # entender as informacoes disponiveis\n",
    "    # procurar os problemas da base de dados\n",
    "\n",
    "#problemas:\n",
    "    # 1º: colunas inuteis (que nao ajudam na analise de dados)\n",
    "tabela = tabela.drop(columns=\"CustomerID\") # apaga uma das colunas\n",
    "display(tabela)\n"
   ]
  },
  {
   "cell_type": "code",
   "execution_count": null,
   "metadata": {},
   "outputs": [],
   "source": [
    "# passo 3: corrigir os problemas da base de dados\n",
    "display(tabela.info())\n",
    "tabela = tabela.dropna() # joga fora todos os objetos com valores vazio\n",
    "display(tabela.info())"
   ]
  },
  {
   "cell_type": "code",
   "execution_count": null,
   "metadata": {},
   "outputs": [],
   "source": [
    "# passo 4: analise dos cancelamentos (quantos cancelaram)\n",
    "\n",
    "display(tabela[\"cancelou\"].value_counts())\n",
    "\n",
    "# em percentual = normalizado(termo estatistico, exibir de 0 a 100%)\n",
    "\n",
    "display((tabela[\"cancelou\"].value_counts(normalize=True)).map(\"{:0.1%}\".format))"
   ]
  },
  {
   "cell_type": "code",
   "execution_count": null,
   "metadata": {},
   "outputs": [],
   "source": [
    "# passo 5: analise das causas dos cancelamentos (como cada coluna impacta na causa)\n",
    "import plotly.express as px\n",
    "\n",
    "# duas etapas para criar o grafico\n",
    "    # 1º: primeiro cria o grafico\n",
    "    # 2º: depois exibe o grafico\n",
    "\n",
    "# 1º\n",
    "# para cada coluna da tabela eu quero um grafico\n",
    "for coluna in tabela.columns:\n",
    "    # 1º: cria um grafico\n",
    "    grafico = px.histogram(tabela, x=coluna, color=\"cancelou\", text_auto=True)\n",
    "\n",
    "\n",
    "    # 2º: exibe um grafico\n",
    "    grafico.show()"
   ]
  },
  {
   "cell_type": "code",
   "execution_count": null,
   "metadata": {},
   "outputs": [],
   "source": [
    "# causas de cancelamento\n",
    "    # todos os clientes de contrato mensal cancelaram\n",
    "        # dica pra empresa: dar desconto no desconto anual e trimestral\n",
    "\n",
    "    # todos os clientes com mais de 20 dias de atraso cancelaram o serviço\n",
    "        # dica pra empresa: comecar cobrar 10 dias antes de dar 20 dias todos os dias\n",
    "\n",
    "    # quase todos os clientes que fizeram mais de 4 ligacoes no call center cancelaram\n",
    "        # dica pra empresa: tentar resolver o problema do cliente em menos de 4 ligacoes\n",
    "\n",
    "    # todos os clientes que gastaram menos de 500 cancelaram\n",
    "        # dica pra empresa: incentivar o gasto e manter o cliente pagando\n",
    "\n",
    "\n",
    "# se eu resolver esses problemas acima, quanto cai o cancelamento?\n",
    "\n",
    "# duracao do contrato nao pode ser mensal\n",
    "\n",
    "tabela = tabela[tabela[\"duracao_contrato\"] != \"Monthly\"]\n",
    "\n",
    "# atrasos somente de ate 20 dias\n",
    "\n",
    "tabela = tabela[tabela[\"dias_atraso\"] <= 20]\n",
    "\n",
    "# ligacoes no call center de ate 4 ligacoes\n",
    "\n",
    "tabela = tabela[tabela[\"ligacoes_callcenter\"] <= 4]\n",
    "\n",
    "# incentivar o cliente a gastar mais\n",
    "\n",
    "tabela = tabela[tabela[\"total_gasto\"] >= 500]\n",
    "\n",
    "# mostrar tabela percentual e normalizada\n",
    "display((tabela[\"cancelou\"].value_counts(normalize=True)).map(\"{:0.1%}\".format))"
   ]
  }
 ],
 "metadata": {
  "kernelspec": {
   "display_name": "Python 3",
   "language": "python",
   "name": "python3"
  },
  "language_info": {
   "codemirror_mode": {
    "name": "ipython",
    "version": 3
   },
   "file_extension": ".py",
   "mimetype": "text/x-python",
   "name": "python",
   "nbconvert_exporter": "python",
   "pygments_lexer": "ipython3",
   "version": "3.13.0"
  },
  "orig_nbformat": 4
 },
 "nbformat": 4,
 "nbformat_minor": 2
}
